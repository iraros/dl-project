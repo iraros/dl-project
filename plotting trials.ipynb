{
 "cells": [
  {
   "cell_type": "code",
   "execution_count": 2,
   "metadata": {},
   "outputs": [],
   "source": [
    "% matplotlib inline"
   ]
  },
  {
   "cell_type": "code",
   "execution_count": 6,
   "metadata": {
    "collapsed": true
   },
   "outputs": [],
   "source": [
    "# coding: utf-8\n",
    "\n",
    "import numpy as np\n",
    "import matplotlib.pyplot as plt\n",
    "import librosa.display\n",
    "\n",
    "\n",
    "# data_path = '/home/ira/Desktop/inception-trial/datas/UrbanSound8K'\n",
    "# metadata_path = os.path.join(data_path, 'metadata/UrbanSound8K.csv')\n",
    "\n",
    "wav_path = '/home/ira/Desktop/dl_project/datas/UrbanSound8K/audio/fold4/344-3-5-0.wav'\n",
    "\n",
    "y, sr = librosa.load(wav_path)\n",
    "\n",
    "# Let's make and display a mel-scaled power (energy-squared) spectrogram\n",
    "S = librosa.feature.melspectrogram(y, sr=sr, n_mels=128)\n",
    "# S = librosa.feature.spectral_bandwidth(y, sr=sr)\n",
    "\n",
    "# Convert to log scale (dB). We'll use the peak power as reference.\n",
    "log_S = librosa.amplitude_to_db(S, ref=np.max)\n",
    "\n",
    "mfcc_myself = librosa.feature.mfcc(y=y)\n",
    "mfcc_by_mel_spec = librosa.feature.mfcc(S=S)\n",
    "\n",
    "# Make a new figure\n",
    "fig = plt.figure(figsize=(12, 4))\n",
    "ax = plt.Axes(fig, [0., 0., 1., 1.])\n",
    "ax.set_axis_off()\n",
    "fig.add_axes(ax)\n",
    "\n",
    "# Display the spectrogram on a mel scale\n",
    "# sample rate and hop length parameters are used to render the time axis\n",
    "# librosa.display.specshow(log_S, sr=sr, x_axis='time', y_axis='linear')\n",
    "librosa.display.specshow(S, sr=sr, x_axis='time', y_axis='linear')\n",
    "# librosa.display.waveplot(y, cmap='binary', sr=sr, x_axis='time')\n",
    "# librosa.display.waveplot(y, sr=sr, x_axis='time')\n",
    "\n",
    "# Make the figure layout compact\n",
    "\n",
    "plt.show()\n",
    "# plt.savefig(os.path.join(data_path, thing_name, line[7], line[0] + '.png'))\n",
    "\n",
    "plt.close()\n",
    "\n",
    "\n"
   ]
  },
  {
   "cell_type": "code",
   "execution_count": null,
   "metadata": {},
   "outputs": [],
   "source": []
  }
 ],
 "metadata": {
  "kernelspec": {
   "display_name": "Python 3",
   "language": "python",
   "name": "python3"
  },
  "language_info": {
   "codemirror_mode": {
    "name": "ipython",
    "version": 3
   },
   "file_extension": ".py",
   "mimetype": "text/x-python",
   "name": "python",
   "nbconvert_exporter": "python",
   "pygments_lexer": "ipython3",
   "version": "3.6.8"
  }
 },
 "nbformat": 4,
 "nbformat_minor": 2
}

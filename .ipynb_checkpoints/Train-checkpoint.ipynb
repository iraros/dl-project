{
 "cells": [
  {
   "cell_type": "code",
   "execution_count": null,
   "metadata": {},
   "outputs": [],
   "source": [
    "!python retrain.py --print_misclassified_test_images \\\n",
    "--image_dir datas/UrbanSound8K/wave_forms/ \\\n",
    "--bottleneck_dir datas/UrbanSound8K/bottlenecks/wave_forms/ \\\n",
    "--output_graph datas/UrbanSound8K/output_graphs/wave_forms.pb \\\n",
    "--output_labels datas/UrbanSound8K/output_labels/wave_forms.txt \\\n",
    "--how_many_training_steps=4000\n",
    "\n"
   ]
  }
 ],
 "metadata": {
  "kernelspec": {
   "display_name": "Python 3",
   "language": "python",
   "name": "python3"
  },
  "language_info": {
   "codemirror_mode": {
    "name": "ipython",
    "version": 3
   },
   "file_extension": ".py",
   "mimetype": "text/x-python",
   "name": "python",
   "nbconvert_exporter": "python",
   "pygments_lexer": "ipython3",
   "version": "3.6.8"
  }
 },
 "nbformat": 4,
 "nbformat_minor": 2
}
